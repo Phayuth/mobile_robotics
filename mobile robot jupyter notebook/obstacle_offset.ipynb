{
 "cells": [
  {
   "cell_type": "code",
   "execution_count": 2,
   "id": "2ae0b6f3-832d-4401-b180-01bd80113fc5",
   "metadata": {},
   "outputs": [],
   "source": [
    "import matplotlib.pyplot as plt\n",
    "import numpy as np"
   ]
  },
  {
   "cell_type": "code",
   "execution_count": 47,
   "id": "40725289-1219-476b-8a83-3864af76f537",
   "metadata": {},
   "outputs": [
    {
     "data": {
      "image/png": "[encoded data removed]",
      "text/plain": [
       "<Figure size 640x480 with 1 Axes>"
      ]
     },
     "metadata": {},
     "output_type": "display_data"
    }
   ],
   "source": [
    "data = [\n",
    "    [0,0,0,0,0,0,0,0,0,0],\n",
    "    [0,0,0,0,0,0,0,0,0,0],\n",
    "    [0,0,0,0,0,0,0,0,0,0],\n",
    "    [0,0,0,0,0,0,0,0,0,0],\n",
    "    [0,0,0,0,1,0,0,0,0,0],\n",
    "    [0,0,0,0,0,0,0,1,0,0],\n",
    "    [0,0,0,1,0,0,0,0,0,0],\n",
    "    [0,0,0,0,0,0,1,0,0,0],\n",
    "    [0,0,0,0,0,0,0,0,0,0],\n",
    "    [0,0,0,0,0,0,0,0,0,0]\n",
    "]\n",
    "# 0 is svay\n",
    "# 1 is yellow\n",
    "cell =  np.array(data)\n",
    "plt.imshow(cell)\n",
    "plt.show()"
   ]
  },
  {
   "cell_type": "code",
   "execution_count": 60,
   "id": "3b432f51-83d2-4bc7-9796-8e6d0b7106bc",
   "metadata": {},
   "outputs": [],
   "source": [
    "def search(cell):\n",
    "    occ_cell = []\n",
    "    x , y = np.shape(cell)\n",
    "    for i in range(x-1):\n",
    "        for j in range(y-1):\n",
    "            if cell[i,j] == 1:\n",
    "                occ_cell.append([i,j])\n",
    "    return occ_cell"
   ]
  },
  {
   "cell_type": "code",
   "execution_count": 67,
   "id": "8229c0ed-ceee-487d-9670-068ad77b4516",
   "metadata": {},
   "outputs": [
    {
     "name": "stdout",
     "output_type": "stream",
     "text": [
      "[[4, 4], [5, 7], [6, 3], [7, 6]]\n"
     ]
    }
   ],
   "source": [
    "occ = search(cell)\n",
    "print(occ)"
   ]
  },
  {
   "cell_type": "code",
   "execution_count": 68,
   "id": "b476f846-19f6-448f-ae39-9a2a56567153",
   "metadata": {},
   "outputs": [
    {
     "data": {
      "text/plain": [
       "4"
      ]
     },
     "execution_count": 68,
     "metadata": {},
     "output_type": "execute_result"
    }
   ],
   "source": [
    "occ[0][1]"
   ]
  },
  {
   "cell_type": "code",
   "execution_count": 63,
   "id": "03f2e727-0f9b-4f51-941f-b992021c83b8",
   "metadata": {},
   "outputs": [],
   "source": [
    "def offset(cell,occ_list):\n",
    "    pass"
   ]
  }
 ],
 "metadata": {
  "kernelspec": {
   "display_name": "Python 3 (ipykernel)",
   "language": "python",
   "name": "python3"
  },
  "language_info": {
   "codemirror_mode": {
    "name": "ipython",
    "version": 3
   },
   "file_extension": ".py",
   "mimetype": "text/x-python",
   "name": "python",
   "nbconvert_exporter": "python",
   "pygments_lexer": "ipython3",
   "version": "3.9.13"
  }
 },
 "nbformat": 4,
 "nbformat_minor": 5
}
