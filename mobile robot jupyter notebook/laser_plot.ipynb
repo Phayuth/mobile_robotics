{
 "cells": [
  {
   "cell_type": "code",
   "execution_count": 54,
   "id": "3aa2bf7c-4621-43ff-9177-e798824dd029",
   "metadata": {},
   "outputs": [],
   "source": [
    "import numpy as np\n",
    "import matplotlib.pyplot as plt"
   ]
  },
  {
   "cell_type": "code",
   "execution_count": 47,
   "id": "ca482470-3934-41fb-bca7-57ef09bb001f",
   "metadata": {},
   "outputs": [],
   "source": [
    "x_odom = 2\n",
    "y_odom = 2\n",
    "t_odom = -1"
   ]
  },
  {
   "cell_type": "code",
   "execution_count": 55,
   "id": "dcf751f5-b06c-497e-8a8b-4fd3c31ac4d3",
   "metadata": {},
   "outputs": [],
   "source": [
    "r = np.array([1,1,1,1,1,1,1,1,1,1,1,1,1,1,1,1,1,1,1,1])\n",
    "a = np.linspace(0, np.pi, num=20)"
   ]
  },
  {
   "cell_type": "code",
   "execution_count": 56,
   "id": "26858b90-bbbe-43bc-8bc0-d8f482f25593",
   "metadata": {},
   "outputs": [],
   "source": [
    "x_point = x_odom + r*np.cos(a+t_odom)\n",
    "y_point = y_odom + r*np.sin(a+t_odom)"
   ]
  },
  {
   "cell_type": "code",
   "execution_count": 62,
   "id": "7a694364-c1e1-4162-8239-9a4847e92893",
   "metadata": {},
   "outputs": [
    {
     "data": {
      "image/png": "[encoded data removed]",
      "text/plain": [
       "<Figure size 640x480 with 1 Axes>"
      ]
     },
     "metadata": {},
     "output_type": "display_data"
    }
   ],
   "source": [
    "fig = plt.figure()\n",
    "ax = fig.add_subplot(111)\n",
    "\n",
    "plt.xlim(-5,5)\n",
    "plt.ylim(-5,5)\n",
    "\n",
    "ax.set_aspect('equal', adjustable='box')\n",
    "\n",
    "plt.scatter(0, 0,c='r') # plot point at 0,0 global\n",
    "plt.scatter(x_odom,y_odom,c='g') # plot point at local base link\n",
    "plt.scatter(x_point, y_point)\n",
    "\n",
    "plt.show()"
   ]
  },
  {
   "cell_type": "code",
   "execution_count": null,
   "id": "3e78e62f-e967-4814-abd9-89e4414e7c4e",
   "metadata": {},
   "outputs": [],
   "source": []
  }
 ],
 "metadata": {
  "kernelspec": {
   "display_name": "Python 3 (ipykernel)",
   "language": "python",
   "name": "python3"
  },
  "language_info": {
   "codemirror_mode": {
    "name": "ipython",
    "version": 3
   },
   "file_extension": ".py",
   "mimetype": "text/x-python",
   "name": "python",
   "nbconvert_exporter": "python",
   "pygments_lexer": "ipython3",
   "version": "3.9.13"
  }
 },
 "nbformat": 4,
 "nbformat_minor": 5
}
